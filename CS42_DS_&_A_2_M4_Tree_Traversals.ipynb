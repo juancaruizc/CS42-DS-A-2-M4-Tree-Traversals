{
  "nbformat": 4,
  "nbformat_minor": 0,
  "metadata": {
    "colab": {
      "name": "CS42: DS & A 2: M4: Tree Traversals",
      "provenance": [],
      "include_colab_link": true
    },
    "kernelspec": {
      "name": "python3",
      "display_name": "Python 3"
    },
    "language_info": {
      "name": "python"
    }
  },
  "cells": [
    {
      "cell_type": "markdown",
      "metadata": {
        "id": "view-in-github",
        "colab_type": "text"
      },
      "source": [
        "<a href=\"https://colab.research.google.com/github/juancaruizc/CS42-DS-A-2-M4-Tree-Traversals/blob/main/CS42_DS_%26_A_2_M4_Tree_Traversals.ipynb\" target=\"_parent\"><img src=\"https://colab.research.google.com/assets/colab-badge.svg\" alt=\"Open In Colab\"/></a>"
      ]
    },
    {
      "cell_type": "markdown",
      "metadata": {
        "id": "A154SNIlTeqv"
      },
      "source": [
        "# Tree Traversals\n",
        "\n",
        "**Attendance code: 9975**\n",
        "\n",
        "* What are traversals?\n",
        "* What are the different types?\n",
        "* What are the binary tree-specific types?\n",
        "* Depth-first vs Breadth-first/Level-first\n",
        "* Challenge: constructing a tree from in-order and pre-order traversal output\n"
      ]
    },
    {
      "cell_type": "markdown",
      "metadata": {
        "id": "UmANT7JcWw03"
      },
      "source": [
        "# What are they?\n",
        "\n",
        "We want to \"visit\" every node in the tree.\n",
        "\n",
        "By \"visit\" I mean do whatever it is we're doing with that node. For example, print the value.\n",
        "\n",
        "## Depth First\n",
        "\n",
        "Travel down each arm to a dead-end, then backtrack to the previous intersection.\n",
        "\n",
        "This I how I solve mazes.\n",
        "\n",
        "### Subtypes of Depth-First for binary trees\n",
        "\n",
        "* Pre-order: visit the node before traversing left and right\n",
        "* Post-order: visit the node after traversing left and right\n",
        "* In-order: vist the node between traversing left and right\n",
        "\n",
        "## Breadth first\n",
        "\n",
        "Explore the root node, then explore the nodes closest to the root, then the next closest, etc.\n",
        "\n",
        "Ripples in a pond.\n",
        "\n",
        "In a tree, Breadth-First is also called Level-First."
      ]
    },
    {
      "cell_type": "code",
      "metadata": {
        "colab": {
          "base_uri": "https://localhost:8080/"
        },
        "id": "AjWQ-Z5lTV7O",
        "outputId": "d4dd3104-2286-4712-b9a0-3e86d6c27636"
      },
      "source": [
        "class Stack:\n",
        "    def __init__(self):\n",
        "        self.stack = []\n",
        "\n",
        "    def push(self, value):\n",
        "        self.stack.append(value)\n",
        "\n",
        "    def pop(self):\n",
        "        return self.stack.pop()\n",
        "\n",
        "    def is_empty(self):\n",
        "        return self.stack == []\n",
        "\n",
        "class Queue:\n",
        "    def __init__(self):\n",
        "        self.stack = []\n",
        "\n",
        "    def enqueue(self, value):\n",
        "        self.stack.append(value)\n",
        "\n",
        "    def dequeue(self):\n",
        "        return self.stack.pop(0)  # TODO: this is O(n), yuck, replace later\n",
        "\n",
        "    def is_empty(self):\n",
        "        return self.stack == []\n",
        "\n",
        "\n",
        "class TreeNode:\n",
        "    def __init__(self, value):\n",
        "        self.value = value\n",
        "        self.left = None\n",
        "        self.right = None\n",
        "\n",
        "    def __repr__(self):  # make it print nicely\n",
        "        return f\"TreeNode({repr(self.value)})\"\n",
        "\n",
        "class BST:\n",
        "    def __init__(self):\n",
        "        self.root = None\n",
        "\n",
        "    def insert(self, n):\n",
        "        # Special case: insert on an empty tree\n",
        "        if self.root is None:\n",
        "            self.root = n\n",
        "            return\n",
        "\n",
        "        # General: insert on a non-empty tree\n",
        "        cur = self.root\n",
        "\n",
        "        while cur is not None:\n",
        "            \n",
        "            if n.value < cur.value:  # go left\n",
        "                next_cur = cur.left\n",
        "\n",
        "                # If we found a None node to the left, that's\n",
        "                # where the new node goes\n",
        "                if next_cur is None:\n",
        "                    cur.left = n\n",
        "\n",
        "            else: # go right (assume no duplicate values)\n",
        "                next_cur = cur.right\n",
        "\n",
        "                # If we found a None node to the right, that's\n",
        "                # where the new node goes\n",
        "                if next_cur is None:\n",
        "                    cur.right = n\n",
        "\n",
        "            cur = next_cur\n",
        "\n",
        "    def search(self, value):\n",
        "        cur = self.root\n",
        "\n",
        "        steps = 0\n",
        "\n",
        "        while cur is not None:\n",
        "            steps += 1\n",
        "            if value < cur.value:\n",
        "                cur = cur.left\n",
        "            elif value > cur.value:\n",
        "                cur = cur.right\n",
        "            else:  # they're equal!\n",
        "                print(f\"Found it steps: {steps}\")\n",
        "                return cur\n",
        "\n",
        "        # If we got here, we didn't find it\n",
        "        print(f\"Didn't find it steps: {steps}\")\n",
        "        return None\n",
        "\n",
        "    def dft1(self):  # recursive version\n",
        "\n",
        "        def dft_r(n):\n",
        "            if n is None:\n",
        "                return\n",
        "\n",
        "            #print(n.value)  # visit pre-order\n",
        "            dft_r(n.left)\n",
        "            print(n.value)  # visit in-order\n",
        "            dft_r(n.right)\n",
        "            #print(n.value)  # visit post-order\n",
        "\n",
        "        dft_r(self.root)\n",
        "\n",
        "    def dft(self):  # Non-recursive version with our own stack\n",
        "        # Initialize the traversal\n",
        "        to_visit = Stack()\n",
        "        to_visit.push(self.root)\n",
        "\n",
        "        while not to_visit.is_empty():  # I still have places to go\n",
        "            n = to_visit.pop()  # Here's where I'm at now\n",
        "\n",
        "            if n is not None:\n",
        "                print(n.value)  # visit\n",
        "\n",
        "                to_visit.push(n.right)\n",
        "                to_visit.push(n.left)\n",
        "\n",
        "    def bft(self):  # Non-recursive version with our own queue\n",
        "        # Initialize the traversal\n",
        "        to_visit = Queue()\n",
        "        to_visit.enqueue(self.root)\n",
        "\n",
        "        while not to_visit.is_empty():  # I still have places to go\n",
        "            n = to_visit.dequeue()  # Here's where I'm at now\n",
        "\n",
        "            if n is not None:\n",
        "                print(n.value)  # visit\n",
        "\n",
        "                to_visit.enqueue(n.right)\n",
        "                to_visit.enqueue(n.left)\n",
        "\n",
        "bst = BST()\n",
        "\n",
        "bst.insert(TreeNode(5))\n",
        "bst.insert(TreeNode(3))\n",
        "bst.insert(TreeNode(7))\n",
        "bst.insert(TreeNode(9))\n",
        "bst.insert(TreeNode(6))\n",
        "bst.insert(TreeNode(4))\n",
        "bst.insert(TreeNode(1))\n",
        "\n",
        "bst.dft1()\n",
        "#bst.dft()\n",
        "#bst.bft()\n",
        "\n"
      ],
      "execution_count": null,
      "outputs": [
        {
          "output_type": "stream",
          "text": [
            "1\n",
            "3\n",
            "4\n",
            "5\n",
            "6\n",
            "7\n",
            "9\n"
          ],
          "name": "stdout"
        }
      ]
    },
    {
      "cell_type": "code",
      "metadata": {
        "colab": {
          "base_uri": "https://localhost:8080/"
        },
        "id": "1lxAr_1zhQQD",
        "outputId": "75116b11-648b-41f2-ecd0-0dd3c8379c82"
      },
      "source": [
        "# \"DTF\" on a linked list\n",
        "\n",
        "class ListNode:\n",
        "    def __init__(self, value):\n",
        "        self.value = value\n",
        "        self.next = None\n",
        "\n",
        "head = ListNode(1)\n",
        "head.next = ListNode(2)\n",
        "head.next.next = ListNode(3)\n",
        "head.next.next.next = ListNode(4)\n",
        "head.next.next.next.next = ListNode(5)\n",
        "\n",
        "def ll_dft(n):\n",
        "    if n is None:\n",
        "        return\n",
        "\n",
        "    #print(n.value)  # visit \"pre-order\"\n",
        "    ll_dft(n.next)\n",
        "    print(n.value)  # visit \"post-order\"\n",
        "\n",
        "ll_dft(head)"
      ],
      "execution_count": null,
      "outputs": [
        {
          "output_type": "stream",
          "text": [
            "5\n",
            "4\n",
            "3\n",
            "2\n",
            "1\n"
          ],
          "name": "stdout"
        }
      ]
    },
    {
      "cell_type": "markdown",
      "metadata": {
        "id": "WRYZGc-HrWz7"
      },
      "source": [
        "# Recreate a Binary Tree from in-order and pre-order output\n",
        "\n",
        "inorder: left, visit, right\n",
        "preorder: visit, left, right\n",
        "\n",
        "Inorder tells us the relative position of two numbers. \"Is 22 right or left of 5?\" We use this to walk down the partially reconstructed tree and de\n",
        "inorder = `[7,5,13,22,9]`\n",
        "preorder = `[5,7,22,13,9]`\n",
        "\n",
        "```\n",
        "    5\n",
        "   / \\\n",
        "  7  22\n",
        "    /  \\\n",
        "   13   9\n",
        "```\n",
        "\n",
        "\n",
        "```\n",
        "inorder  = 1 3 4 5 6 7 9\n",
        "preorder = 5 3 1 4 7 6 9\n",
        "```\n",
        "\n",
        "```\n",
        "     5\n",
        "    / \\\n",
        "   /   \\\n",
        "  3     7\n",
        " / \\   / \\\n",
        "1   4 6   9\n",
        "```"
      ]
    },
    {
      "cell_type": "markdown",
      "metadata": {
        "id": "_52QA0wxwKz8"
      },
      "source": [
        ""
      ]
    },
    {
      "cell_type": "code",
      "metadata": {
        "id": "a_-2e9QshR95"
      },
      "source": [
        ""
      ],
      "execution_count": null,
      "outputs": []
    }
  ]
}